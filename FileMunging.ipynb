{
 "cells": [
  {
   "cell_type": "code",
   "execution_count": 12,
   "metadata": {},
   "outputs": [
    {
     "name": "stdout",
     "output_type": "stream",
     "text": [
      "[['CT 5mm' '0.5625' '0.5625' '5.0' '36']]\n",
      "[['CT Plain' '0.478516' '0.478516' '5.0' '32']]\n",
      "[['CT Plain' '0.451172' '0.451172' '5.0' '30']]\n",
      "[['CT Plain' '0.460938' '0.460938' '5.0' '30']]\n",
      "[['CT 5mm' '0.488281' '0.488281' '5.0' '32']]\n",
      "[['CT Plain' '0.488281' '0.488281' '5.0' '30']]\n",
      "[['CT 55mm Plain' '0.466797' '0.466797' '5.0' '36']]\n"
     ]
    }
   ],
   "source": [
    "import os\n",
    "import glob\n",
    "import re\n",
    "import numpy as np\n",
    "import pydicom\n",
    "from pydicom.filereader import read_dicomdir\n",
    "\n",
    "\n",
    "data_dir = '/Users/zhengma/Documents/ConvOuch_Zheng/CQ500'\n",
    "\n",
    "for dir_entry in os.scandir(path = data_dir):\n",
    "    subject_dir_dict = dict()\n",
    "    if dir_entry.is_dir():\n",
    "        subject_dir_dict[dir_entry.name] = list()\n",
    "        # print(dir_entry.name)\n",
    "        \n",
    "        # loop through sub-directories and exclude some by name\n",
    "        for sub_dir in os.scandir(dir_entry.path + \"/Unknown Study/\"):\n",
    "            if sub_dir.is_dir() and not re.search(\"(POST|(?<!PRE )CONTRAST|BONE)\", sub_dir.name):\n",
    "                dcm_files = glob.glob(sub_dir.path + \"/*.dcm\")\n",
    "                dicom_data = pydicom.read_file(dcm_files[0])\n",
    "\n",
    "                # add info for these sub-directories to a dictionary\n",
    "                sub_info = [sub_dir.name, float(dicom_data.PixelSpacing[0]), float(dicom_data.PixelSpacing[1]), float(dicom_data.SliceThickness), len(dcm_files)]\n",
    "                subject_dir_dict[dir_entry.name].append(sub_info)\n",
    "                # print(\" -{}\".format(subject_dir_dict[dir_entry.name][-1]))\n",
    "\n",
    "        # warn if no usable directories found\n",
    "        if(len(subject_dir_dict[dir_entry.name]) < 1):\n",
    "            print(\"Warning: {subject} found no usable subdirectories\".format(subject=dir_entry.name))\n",
    "            subject_dir_dict.pop(dir_entry.name)    # remove the entry from the dict\n",
    "\n",
    "        elif(len(subject_dir_dict[dir_entry.name]) > 1):\n",
    "            \n",
    "            # parse the remaining directories to find the best candidate scan\n",
    "            subject_scans = subject_dir_dict[dir_entry.name]\n",
    "\n",
    "            scans_info = np.array(subject_scans)\n",
    "            sorted_idx = np.argsort(scans_info[:, 3])\n",
    "            \n",
    "            # check for a 5mm slice scan\n",
    "            int(scans_info[sorted_idx[-1], 3].astype(float))\n",
    "            if((scans_info[sorted_idx[-1], 3].astype(float)) == 5.0):\n",
    "                scans_info_5 = scans_info[(scans_info[:, 3].astype(float)) == 5.0]\n",
    "                print(scans_info_5)\n",
    "                \n",
    "                # check if there are two 5mm slice scans\n",
    "                if(float(scans_info[sorted_idx[-2], 3]) == 5.0):\n",
    "                    # if more than one 5mm slice scan, use the study with fewest slices\n",
    "                    sorted_slices_idx = np.argsort(scans_info[:, 4])\n",
    "                    subject_dir_dict[dir_entry.name] = subject_dir_dict[dir_entry.name][sorted_slices_idx[-1]]  # replace with fewest slices study\n",
    "                    if(subject_dir_dict[dir_entry.name][4] < 32):\n",
    "                        print(\"Warning: Fewer than 32 slices for {}\".format(dir_entry.path + \"/\" + subject_dir_dict[dir_entry.name][0]))\n",
    "                else:\n",
    "                    subject_dir_dict[dir_entry.name] = subject_dir_dict[dir_entry.name][sorted_idx[-1]]         # replace entries with the 5mm study\n",
    "\n",
    "            else:   # no 5mm slice scans, so choose the smallest\n",
    "                subject_dir_dict[dir_entry.name] = subject_dir_dict[dir_entry.name][sorted_idx[0]]     # replace with the small slice scan\n",
    "\n",
    "\n",
    "    # convert the chosen study folder to nifti for further processing\n",
    "    # print(dir_entry.path + \"/\" + dir_entry.name)\n",
    "\n"
   ]
  },
  {
   "cell_type": "code",
   "execution_count": null,
   "metadata": {},
   "outputs": [],
   "source": []
  }
 ],
 "metadata": {
  "kernelspec": {
   "display_name": "Python 3",
   "language": "python",
   "name": "python3"
  },
  "language_info": {
   "codemirror_mode": {
    "name": "ipython",
    "version": 3
   },
   "file_extension": ".py",
   "mimetype": "text/x-python",
   "name": "python",
   "nbconvert_exporter": "python",
   "pygments_lexer": "ipython3",
   "version": "3.6.5"
  }
 },
 "nbformat": 4,
 "nbformat_minor": 2
}
