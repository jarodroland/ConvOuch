{
 "cells": [
  {
   "cell_type": "markdown",
   "metadata": {},
   "source": [
    "This notebook will reslice a scan to 5mm"
   ]
  },
  {
   "cell_type": "code",
   "execution_count": 1,
   "metadata": {},
   "outputs": [],
   "source": [
    "import nibabel as nib\n",
    "from dipy.align.reslice import reslice"
   ]
  },
  {
   "cell_type": "code",
   "execution_count": 5,
   "metadata": {},
   "outputs": [],
   "source": [
    "nifti_folder = 'nifti_test'\n",
    "#here we should provide a list of scans that need to be resliced\n",
    "scan_list = [3]\n",
    "\n",
    "#the resolution of reslicing\n",
    "new_zooms = (1., 1., 5.)\n",
    "\n",
    "for i in scan_list:\n",
    "    scan_name = (nifti_folder + '/nifti_test' + str(i) + '.nii')\n",
    "\n",
    "    img = nib.load(scan_name)\n",
    "    data = img.get_data()\n",
    "    \n",
    "    affine = img.affine\n",
    "    zooms = img.header.get_zooms()[:3]\n",
    "\n",
    "    data2, affine2 = reslice(data, affine, zooms, new_zooms)\n",
    "    \n",
    "    img2 = nib.Nifti1Image(data2, affine2)\n",
    "    \n",
    "    new_name = (nifti_folder + '/nifti_test5mm' + str(i) + '.nii')\n",
    "    nib.save(img2, new_name)"
   ]
  },
  {
   "cell_type": "code",
   "execution_count": null,
   "metadata": {},
   "outputs": [],
   "source": []
  }
 ],
 "metadata": {
  "kernelspec": {
   "display_name": "Python 3",
   "language": "python",
   "name": "python3"
  },
  "language_info": {
   "codemirror_mode": {
    "name": "ipython",
    "version": 3
   },
   "file_extension": ".py",
   "mimetype": "text/x-python",
   "name": "python",
   "nbconvert_exporter": "python",
   "pygments_lexer": "ipython3",
   "version": "3.6.5"
  }
 },
 "nbformat": 4,
 "nbformat_minor": 2
}
