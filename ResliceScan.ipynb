{
 "cells": [
  {
   "cell_type": "markdown",
   "metadata": {},
   "source": [
    "This notebook will reslice a scan to 5mm"
   ]
  },
  {
   "cell_type": "code",
   "execution_count": 13,
   "metadata": {},
   "outputs": [],
   "source": [
    "import nibabel as nib\n",
    "from dipy.align.reslice import reslice\n",
    "import os\n",
    "from matplotlib import pyplot as plt"
   ]
  },
  {
   "cell_type": "code",
   "execution_count": 17,
   "metadata": {},
   "outputs": [],
   "source": [
    "nifti_folder = 'Nifti_Files'\n",
    "\n",
    "#here we should provide a list of scans that need to be resliced\n",
    "#or we just list everything in the folder\n",
    "scan_list = os.listdir(nifti_folder)\n",
    "\n",
    "#the resolution of reslicing\n",
    "new_zooms = (1., 1., 5.)\n",
    "\n",
    "for i in scan_list:\n",
    "    if i.startswith('CQ500'):\n",
    "        scan_name = (nifti_folder + '/' + i + '/' + i + '.nii.gz')\n",
    "\n",
    "        img = nib.load(scan_name)\n",
    "        data = img.get_data()\n",
    "\n",
    "        #maybe we reslcie everything?\n",
    "\n",
    "        affine = img.affine\n",
    "        zooms = img.header.get_zooms()[:3]\n",
    "\n",
    "        data2, affine2 = reslice(data, affine, zooms, new_zooms)\n",
    "\n",
    "        img2 = nib.Nifti1Image(data2, affine2)\n",
    "\n",
    "        new_name = scan_name[:-7] + '_5mm' + '.nii'\n",
    "        nib.save(img2, new_name)"
   ]
  },
  {
   "cell_type": "code",
   "execution_count": null,
   "metadata": {},
   "outputs": [],
   "source": []
  }
 ],
 "metadata": {
  "kernelspec": {
   "display_name": "Python 3",
   "language": "python",
   "name": "python3"
  },
  "language_info": {
   "codemirror_mode": {
    "name": "ipython",
    "version": 3
   },
   "file_extension": ".py",
   "mimetype": "text/x-python",
   "name": "python",
   "nbconvert_exporter": "python",
   "pygments_lexer": "ipython3",
   "version": "3.6.5"
  }
 },
 "nbformat": 4,
 "nbformat_minor": 2
}
